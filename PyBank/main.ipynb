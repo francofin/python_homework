{
 "cells": [
  {
   "cell_type": "code",
   "execution_count": 157,
   "metadata": {},
   "outputs": [],
   "source": [
    "import pandas as pd\n",
    "import numpy as np\n",
    "import datetime as dt"
   ]
  },
  {
   "cell_type": "code",
   "execution_count": 92,
   "metadata": {},
   "outputs": [],
   "source": [
    "budget_data = pd.read_csv('budget_data.csv', index_col=\"Date\", parse_dates=True)"
   ]
  },
  {
   "cell_type": "code",
   "execution_count": 93,
   "metadata": {},
   "outputs": [],
   "source": [
    "budget_data['date_observations'] = budget_data.index"
   ]
  },
  {
   "cell_type": "code",
   "execution_count": 94,
   "metadata": {},
   "outputs": [
    {
     "data": {
      "text/html": [
       "<div>\n",
       "<style scoped>\n",
       "    .dataframe tbody tr th:only-of-type {\n",
       "        vertical-align: middle;\n",
       "    }\n",
       "\n",
       "    .dataframe tbody tr th {\n",
       "        vertical-align: top;\n",
       "    }\n",
       "\n",
       "    .dataframe thead th {\n",
       "        text-align: right;\n",
       "    }\n",
       "</style>\n",
       "<table border=\"1\" class=\"dataframe\">\n",
       "  <thead>\n",
       "    <tr style=\"text-align: right;\">\n",
       "      <th></th>\n",
       "      <th>Profit/Losses</th>\n",
       "      <th>date_observations</th>\n",
       "    </tr>\n",
       "    <tr>\n",
       "      <th>Date</th>\n",
       "      <th></th>\n",
       "      <th></th>\n",
       "    </tr>\n",
       "  </thead>\n",
       "  <tbody>\n",
       "    <tr>\n",
       "      <th>2010-01-01</th>\n",
       "      <td>867884</td>\n",
       "      <td>2010-01-01</td>\n",
       "    </tr>\n",
       "    <tr>\n",
       "      <th>2010-02-01</th>\n",
       "      <td>984655</td>\n",
       "      <td>2010-02-01</td>\n",
       "    </tr>\n",
       "    <tr>\n",
       "      <th>2010-03-01</th>\n",
       "      <td>322013</td>\n",
       "      <td>2010-03-01</td>\n",
       "    </tr>\n",
       "    <tr>\n",
       "      <th>2010-04-01</th>\n",
       "      <td>-69417</td>\n",
       "      <td>2010-04-01</td>\n",
       "    </tr>\n",
       "    <tr>\n",
       "      <th>2010-05-01</th>\n",
       "      <td>310503</td>\n",
       "      <td>2010-05-01</td>\n",
       "    </tr>\n",
       "    <tr>\n",
       "      <th>...</th>\n",
       "      <td>...</td>\n",
       "      <td>...</td>\n",
       "    </tr>\n",
       "    <tr>\n",
       "      <th>2016-10-01</th>\n",
       "      <td>102685</td>\n",
       "      <td>2016-10-01</td>\n",
       "    </tr>\n",
       "    <tr>\n",
       "      <th>2016-11-01</th>\n",
       "      <td>795914</td>\n",
       "      <td>2016-11-01</td>\n",
       "    </tr>\n",
       "    <tr>\n",
       "      <th>2016-12-01</th>\n",
       "      <td>60988</td>\n",
       "      <td>2016-12-01</td>\n",
       "    </tr>\n",
       "    <tr>\n",
       "      <th>2017-01-01</th>\n",
       "      <td>138230</td>\n",
       "      <td>2017-01-01</td>\n",
       "    </tr>\n",
       "    <tr>\n",
       "      <th>2017-02-01</th>\n",
       "      <td>671099</td>\n",
       "      <td>2017-02-01</td>\n",
       "    </tr>\n",
       "  </tbody>\n",
       "</table>\n",
       "<p>86 rows × 2 columns</p>\n",
       "</div>"
      ],
      "text/plain": [
       "            Profit/Losses date_observations\n",
       "Date                                       \n",
       "2010-01-01         867884        2010-01-01\n",
       "2010-02-01         984655        2010-02-01\n",
       "2010-03-01         322013        2010-03-01\n",
       "2010-04-01         -69417        2010-04-01\n",
       "2010-05-01         310503        2010-05-01\n",
       "...                   ...               ...\n",
       "2016-10-01         102685        2016-10-01\n",
       "2016-11-01         795914        2016-11-01\n",
       "2016-12-01          60988        2016-12-01\n",
       "2017-01-01         138230        2017-01-01\n",
       "2017-02-01         671099        2017-02-01\n",
       "\n",
       "[86 rows x 2 columns]"
      ]
     },
     "execution_count": 94,
     "metadata": {},
     "output_type": "execute_result"
    }
   ],
   "source": [
    "budget_data"
   ]
  },
  {
   "cell_type": "code",
   "execution_count": 118,
   "metadata": {},
   "outputs": [],
   "source": [
    "budget_data_copy = budget_data.groupby([budget_data.index.year, budget_data.index.month])"
   ]
  },
  {
   "cell_type": "markdown",
   "metadata": {},
   "source": [
    "By creating a mutliindex we could easily acess the month data if necessary. Not a requirement just interesting to see.\n",
    "\n",
    "The date_observations column is again just if required and allows easier access to column dates"
   ]
  },
  {
   "cell_type": "code",
   "execution_count": 119,
   "metadata": {},
   "outputs": [],
   "source": [
    "budget_data_copy = budget_data_copy.first()"
   ]
  },
  {
   "cell_type": "code",
   "execution_count": 120,
   "metadata": {},
   "outputs": [],
   "source": [
    "budget_data_copy['%change_in_pl'] = budget_data_copy['Profit/Losses'].pct_change()"
   ]
  },
  {
   "cell_type": "code",
   "execution_count": 121,
   "metadata": {},
   "outputs": [],
   "source": [
    "budget_data_copy.index.names = ['Year','Month']"
   ]
  },
  {
   "cell_type": "code",
   "execution_count": 122,
   "metadata": {},
   "outputs": [
    {
     "data": {
      "text/html": [
       "<div>\n",
       "<style scoped>\n",
       "    .dataframe tbody tr th:only-of-type {\n",
       "        vertical-align: middle;\n",
       "    }\n",
       "\n",
       "    .dataframe tbody tr th {\n",
       "        vertical-align: top;\n",
       "    }\n",
       "\n",
       "    .dataframe thead th {\n",
       "        text-align: right;\n",
       "    }\n",
       "</style>\n",
       "<table border=\"1\" class=\"dataframe\">\n",
       "  <thead>\n",
       "    <tr style=\"text-align: right;\">\n",
       "      <th></th>\n",
       "      <th></th>\n",
       "      <th>Profit/Losses</th>\n",
       "      <th>date_observations</th>\n",
       "      <th>%change_in_pl</th>\n",
       "    </tr>\n",
       "    <tr>\n",
       "      <th>Year</th>\n",
       "      <th>Month</th>\n",
       "      <th></th>\n",
       "      <th></th>\n",
       "      <th></th>\n",
       "    </tr>\n",
       "  </thead>\n",
       "  <tbody>\n",
       "    <tr>\n",
       "      <th rowspan=\"5\" valign=\"top\">2010</th>\n",
       "      <th>1</th>\n",
       "      <td>867884</td>\n",
       "      <td>2010-01-01</td>\n",
       "      <td>NaN</td>\n",
       "    </tr>\n",
       "    <tr>\n",
       "      <th>2</th>\n",
       "      <td>984655</td>\n",
       "      <td>2010-02-01</td>\n",
       "      <td>0.134547</td>\n",
       "    </tr>\n",
       "    <tr>\n",
       "      <th>3</th>\n",
       "      <td>322013</td>\n",
       "      <td>2010-03-01</td>\n",
       "      <td>-0.672969</td>\n",
       "    </tr>\n",
       "    <tr>\n",
       "      <th>4</th>\n",
       "      <td>-69417</td>\n",
       "      <td>2010-04-01</td>\n",
       "      <td>-1.215572</td>\n",
       "    </tr>\n",
       "    <tr>\n",
       "      <th>5</th>\n",
       "      <td>310503</td>\n",
       "      <td>2010-05-01</td>\n",
       "      <td>-5.473011</td>\n",
       "    </tr>\n",
       "    <tr>\n",
       "      <th>...</th>\n",
       "      <th>...</th>\n",
       "      <td>...</td>\n",
       "      <td>...</td>\n",
       "      <td>...</td>\n",
       "    </tr>\n",
       "    <tr>\n",
       "      <th rowspan=\"3\" valign=\"top\">2016</th>\n",
       "      <th>10</th>\n",
       "      <td>102685</td>\n",
       "      <td>2016-10-01</td>\n",
       "      <td>-0.866374</td>\n",
       "    </tr>\n",
       "    <tr>\n",
       "      <th>11</th>\n",
       "      <td>795914</td>\n",
       "      <td>2016-11-01</td>\n",
       "      <td>6.751025</td>\n",
       "    </tr>\n",
       "    <tr>\n",
       "      <th>12</th>\n",
       "      <td>60988</td>\n",
       "      <td>2016-12-01</td>\n",
       "      <td>-0.923374</td>\n",
       "    </tr>\n",
       "    <tr>\n",
       "      <th rowspan=\"2\" valign=\"top\">2017</th>\n",
       "      <th>1</th>\n",
       "      <td>138230</td>\n",
       "      <td>2017-01-01</td>\n",
       "      <td>1.266511</td>\n",
       "    </tr>\n",
       "    <tr>\n",
       "      <th>2</th>\n",
       "      <td>671099</td>\n",
       "      <td>2017-02-01</td>\n",
       "      <td>3.854945</td>\n",
       "    </tr>\n",
       "  </tbody>\n",
       "</table>\n",
       "<p>86 rows × 3 columns</p>\n",
       "</div>"
      ],
      "text/plain": [
       "            Profit/Losses date_observations  %change_in_pl\n",
       "Year Month                                                \n",
       "2010 1             867884        2010-01-01            NaN\n",
       "     2             984655        2010-02-01       0.134547\n",
       "     3             322013        2010-03-01      -0.672969\n",
       "     4             -69417        2010-04-01      -1.215572\n",
       "     5             310503        2010-05-01      -5.473011\n",
       "...                   ...               ...            ...\n",
       "2016 10            102685        2016-10-01      -0.866374\n",
       "     11            795914        2016-11-01       6.751025\n",
       "     12             60988        2016-12-01      -0.923374\n",
       "2017 1             138230        2017-01-01       1.266511\n",
       "     2             671099        2017-02-01       3.854945\n",
       "\n",
       "[86 rows x 3 columns]"
      ]
     },
     "execution_count": 122,
     "metadata": {},
     "output_type": "execute_result"
    }
   ],
   "source": [
    "budget_data_copy"
   ]
  },
  {
   "cell_type": "markdown",
   "metadata": {},
   "source": [
    "The use of .shift() with the positional arguments of 1, helps us look back one observation to efficiently calculate the change in Profit and Loss"
   ]
  },
  {
   "cell_type": "code",
   "execution_count": 123,
   "metadata": {},
   "outputs": [],
   "source": [
    "budget_data_copy['$change_in_pl'] = budget_data_copy['Profit/Losses'] - budget_data_copy['Profit/Losses'].shift(1)"
   ]
  },
  {
   "cell_type": "code",
   "execution_count": 124,
   "metadata": {},
   "outputs": [
    {
     "data": {
      "text/html": [
       "<div>\n",
       "<style scoped>\n",
       "    .dataframe tbody tr th:only-of-type {\n",
       "        vertical-align: middle;\n",
       "    }\n",
       "\n",
       "    .dataframe tbody tr th {\n",
       "        vertical-align: top;\n",
       "    }\n",
       "\n",
       "    .dataframe thead th {\n",
       "        text-align: right;\n",
       "    }\n",
       "</style>\n",
       "<table border=\"1\" class=\"dataframe\">\n",
       "  <thead>\n",
       "    <tr style=\"text-align: right;\">\n",
       "      <th></th>\n",
       "      <th></th>\n",
       "      <th>Profit/Losses</th>\n",
       "      <th>date_observations</th>\n",
       "      <th>%change_in_pl</th>\n",
       "      <th>$change_in_pl</th>\n",
       "    </tr>\n",
       "    <tr>\n",
       "      <th>Year</th>\n",
       "      <th>Month</th>\n",
       "      <th></th>\n",
       "      <th></th>\n",
       "      <th></th>\n",
       "      <th></th>\n",
       "    </tr>\n",
       "  </thead>\n",
       "  <tbody>\n",
       "    <tr>\n",
       "      <th rowspan=\"5\" valign=\"top\">2010</th>\n",
       "      <th>1</th>\n",
       "      <td>867884</td>\n",
       "      <td>2010-01-01</td>\n",
       "      <td>NaN</td>\n",
       "      <td>NaN</td>\n",
       "    </tr>\n",
       "    <tr>\n",
       "      <th>2</th>\n",
       "      <td>984655</td>\n",
       "      <td>2010-02-01</td>\n",
       "      <td>0.134547</td>\n",
       "      <td>116771.0</td>\n",
       "    </tr>\n",
       "    <tr>\n",
       "      <th>3</th>\n",
       "      <td>322013</td>\n",
       "      <td>2010-03-01</td>\n",
       "      <td>-0.672969</td>\n",
       "      <td>-662642.0</td>\n",
       "    </tr>\n",
       "    <tr>\n",
       "      <th>4</th>\n",
       "      <td>-69417</td>\n",
       "      <td>2010-04-01</td>\n",
       "      <td>-1.215572</td>\n",
       "      <td>-391430.0</td>\n",
       "    </tr>\n",
       "    <tr>\n",
       "      <th>5</th>\n",
       "      <td>310503</td>\n",
       "      <td>2010-05-01</td>\n",
       "      <td>-5.473011</td>\n",
       "      <td>379920.0</td>\n",
       "    </tr>\n",
       "    <tr>\n",
       "      <th>...</th>\n",
       "      <th>...</th>\n",
       "      <td>...</td>\n",
       "      <td>...</td>\n",
       "      <td>...</td>\n",
       "      <td>...</td>\n",
       "    </tr>\n",
       "    <tr>\n",
       "      <th rowspan=\"3\" valign=\"top\">2016</th>\n",
       "      <th>10</th>\n",
       "      <td>102685</td>\n",
       "      <td>2016-10-01</td>\n",
       "      <td>-0.866374</td>\n",
       "      <td>-665765.0</td>\n",
       "    </tr>\n",
       "    <tr>\n",
       "      <th>11</th>\n",
       "      <td>795914</td>\n",
       "      <td>2016-11-01</td>\n",
       "      <td>6.751025</td>\n",
       "      <td>693229.0</td>\n",
       "    </tr>\n",
       "    <tr>\n",
       "      <th>12</th>\n",
       "      <td>60988</td>\n",
       "      <td>2016-12-01</td>\n",
       "      <td>-0.923374</td>\n",
       "      <td>-734926.0</td>\n",
       "    </tr>\n",
       "    <tr>\n",
       "      <th rowspan=\"2\" valign=\"top\">2017</th>\n",
       "      <th>1</th>\n",
       "      <td>138230</td>\n",
       "      <td>2017-01-01</td>\n",
       "      <td>1.266511</td>\n",
       "      <td>77242.0</td>\n",
       "    </tr>\n",
       "    <tr>\n",
       "      <th>2</th>\n",
       "      <td>671099</td>\n",
       "      <td>2017-02-01</td>\n",
       "      <td>3.854945</td>\n",
       "      <td>532869.0</td>\n",
       "    </tr>\n",
       "  </tbody>\n",
       "</table>\n",
       "<p>86 rows × 4 columns</p>\n",
       "</div>"
      ],
      "text/plain": [
       "            Profit/Losses date_observations  %change_in_pl  $change_in_pl\n",
       "Year Month                                                               \n",
       "2010 1             867884        2010-01-01            NaN            NaN\n",
       "     2             984655        2010-02-01       0.134547       116771.0\n",
       "     3             322013        2010-03-01      -0.672969      -662642.0\n",
       "     4             -69417        2010-04-01      -1.215572      -391430.0\n",
       "     5             310503        2010-05-01      -5.473011       379920.0\n",
       "...                   ...               ...            ...            ...\n",
       "2016 10            102685        2016-10-01      -0.866374      -665765.0\n",
       "     11            795914        2016-11-01       6.751025       693229.0\n",
       "     12             60988        2016-12-01      -0.923374      -734926.0\n",
       "2017 1             138230        2017-01-01       1.266511        77242.0\n",
       "     2             671099        2017-02-01       3.854945       532869.0\n",
       "\n",
       "[86 rows x 4 columns]"
      ]
     },
     "execution_count": 124,
     "metadata": {},
     "output_type": "execute_result"
    }
   ],
   "source": [
    "budget_data_copy"
   ]
  },
  {
   "cell_type": "code",
   "execution_count": 125,
   "metadata": {},
   "outputs": [],
   "source": [
    "number_of_months = (budget_data_copy.groupby(level='Month').size()).sum()"
   ]
  },
  {
   "cell_type": "code",
   "execution_count": 126,
   "metadata": {},
   "outputs": [
    {
     "data": {
      "text/plain": [
       "86"
      ]
     },
     "execution_count": 126,
     "metadata": {},
     "output_type": "execute_result"
    }
   ],
   "source": [
    "number_of_months"
   ]
  },
  {
   "cell_type": "code",
   "execution_count": 127,
   "metadata": {},
   "outputs": [],
   "source": [
    "total_profit_and_loss = budget_data_copy['Profit/Losses'].sum()"
   ]
  },
  {
   "cell_type": "code",
   "execution_count": 128,
   "metadata": {},
   "outputs": [
    {
     "data": {
      "text/plain": [
       "38382578"
      ]
     },
     "execution_count": 128,
     "metadata": {},
     "output_type": "execute_result"
    }
   ],
   "source": [
    "total_profit_and_loss"
   ]
  },
  {
   "cell_type": "code",
   "execution_count": 129,
   "metadata": {},
   "outputs": [],
   "source": [
    "average_profit_and_loss = budget_data_copy['Profit/Losses'].mean()"
   ]
  },
  {
   "cell_type": "code",
   "execution_count": 130,
   "metadata": {},
   "outputs": [
    {
     "data": {
      "text/plain": [
       "446309.0465116279"
      ]
     },
     "execution_count": 130,
     "metadata": {},
     "output_type": "execute_result"
    }
   ],
   "source": [
    "average_profit_and_loss"
   ]
  },
  {
   "cell_type": "code",
   "execution_count": 131,
   "metadata": {},
   "outputs": [],
   "source": [
    "average_dollar_p_l_change = budget_data_copy['$change_in_pl'].mean()"
   ]
  },
  {
   "cell_type": "code",
   "execution_count": 132,
   "metadata": {},
   "outputs": [
    {
     "data": {
      "text/plain": [
       "-2315.1176470588234"
      ]
     },
     "execution_count": 132,
     "metadata": {},
     "output_type": "execute_result"
    }
   ],
   "source": [
    "average_dollar_p_l_change"
   ]
  },
  {
   "cell_type": "markdown",
   "metadata": {},
   "source": [
    "The use of idxmax() and idxmin() returns to us the data at the position where the max and min values are respectively found"
   ]
  },
  {
   "cell_type": "code",
   "execution_count": 137,
   "metadata": {},
   "outputs": [],
   "source": [
    "max_p_l = budget_data_copy['Profit/Losses'].max()\n",
    "max_p_l_date = budget_data_copy['Profit/Losses'].idxmax()"
   ]
  },
  {
   "cell_type": "code",
   "execution_count": 138,
   "metadata": {},
   "outputs": [
    {
     "data": {
      "text/plain": [
       "1170593"
      ]
     },
     "execution_count": 138,
     "metadata": {},
     "output_type": "execute_result"
    }
   ],
   "source": [
    "max_p_l"
   ]
  },
  {
   "cell_type": "code",
   "execution_count": 139,
   "metadata": {},
   "outputs": [
    {
     "data": {
      "text/plain": [
       "(2012, 2)"
      ]
     },
     "execution_count": 139,
     "metadata": {},
     "output_type": "execute_result"
    }
   ],
   "source": [
    "max_p_l_date"
   ]
  },
  {
   "cell_type": "code",
   "execution_count": 180,
   "metadata": {},
   "outputs": [],
   "source": [
    "max_increase_in_p_l = budget_data_copy['$change_in_pl'].max()\n",
    "max_increase_date = budget_data_copy['$change_in_pl'].idxmax()\n",
    "max_increase_date = dt.date(year=max_increase_date[0], month=max_increase_date[1], day=1)\n",
    "max_increase_date = max_increase_date.strftime(\"%b/%Y\")"
   ]
  },
  {
   "cell_type": "code",
   "execution_count": 181,
   "metadata": {},
   "outputs": [
    {
     "data": {
      "text/plain": [
       "1926159.0"
      ]
     },
     "execution_count": 181,
     "metadata": {},
     "output_type": "execute_result"
    }
   ],
   "source": [
    "max_increase_in_p_l"
   ]
  },
  {
   "cell_type": "code",
   "execution_count": 182,
   "metadata": {},
   "outputs": [
    {
     "data": {
      "text/plain": [
       "'Feb/2012'"
      ]
     },
     "execution_count": 182,
     "metadata": {},
     "output_type": "execute_result"
    }
   ],
   "source": [
    "max_increase_date"
   ]
  },
  {
   "cell_type": "code",
   "execution_count": 174,
   "metadata": {},
   "outputs": [],
   "source": [
    "min_p_l = budget_data_copy['Profit/Losses'].min()\n",
    "min_p_l_date = budget_data_copy['Profit/Losses'].idxmin()"
   ]
  },
  {
   "cell_type": "code",
   "execution_count": 175,
   "metadata": {},
   "outputs": [
    {
     "data": {
      "text/plain": [
       "-1196225"
      ]
     },
     "execution_count": 175,
     "metadata": {},
     "output_type": "execute_result"
    }
   ],
   "source": [
    "min_p_l"
   ]
  },
  {
   "cell_type": "code",
   "execution_count": 178,
   "metadata": {},
   "outputs": [],
   "source": [
    "min_change_in_p_l = budget_data_copy['$change_in_pl'].min()\n",
    "min_change_date = budget_data_copy['$change_in_pl'].idxmin()\n",
    "min_change_date = dt.date(year=min_change_date[0], month=min_change_date[1], day=1)\n",
    "min_change_date = min_change_date.strftime(\"%b/%Y\")"
   ]
  },
  {
   "cell_type": "code",
   "execution_count": 155,
   "metadata": {},
   "outputs": [
    {
     "data": {
      "text/plain": [
       "-2196167.0"
      ]
     },
     "execution_count": 155,
     "metadata": {},
     "output_type": "execute_result"
    }
   ],
   "source": [
    "min_change_in_p_l"
   ]
  },
  {
   "cell_type": "code",
   "execution_count": 179,
   "metadata": {},
   "outputs": [
    {
     "data": {
      "text/plain": [
       "'Sep/2013'"
      ]
     },
     "execution_count": 179,
     "metadata": {},
     "output_type": "execute_result"
    }
   ],
   "source": [
    "min_change_date"
   ]
  },
  {
   "cell_type": "code",
   "execution_count": 193,
   "metadata": {},
   "outputs": [
    {
     "name": "stdout",
     "output_type": "stream",
     "text": [
      "Total Months: 86\n",
      "----------------------------------------------------------\n",
      "Total Profit and Loss: $38,382,578.00\n",
      "----------------------------------------------------------\n",
      "Average Change in Profit and Loss: $-2315.12\n",
      "----------------------------------------------------------\n",
      "Greatest Increase in Profits: $1,926,159.00 on Feb/2012\n",
      "----------------------------------------------------------\n",
      "Greatest Decrease in Profit: $-2,196,167.00 on Sep/2013\n"
     ]
    }
   ],
   "source": [
    "print(\"Total Months: \"+str(number_of_months))\n",
    "print(\"----------------------------------------------------------\")\n",
    "print(\"Total Profit and Loss: \"+str('${:,.2f}'.format(total_profit_and_loss)))\n",
    "print(\"----------------------------------------------------------\")\n",
    "print(\"Average Change in Profit and Loss: \"+str('${:.2f}'.format(average_dollar_p_l_change)))\n",
    "print(\"----------------------------------------------------------\")\n",
    "print(\"Greatest Increase in Profits: \"+str('${:,.2f}'.format(max_increase_in_p_l))+ \" on \"+max_increase_date)\n",
    "print(\"----------------------------------------------------------\")\n",
    "print(\"Greatest Decrease in Profit: \"+str('${:,.2f}'.format(min_change_in_p_l))+ \" on \"+min_change_date)"
   ]
  },
  {
   "cell_type": "code",
   "execution_count": null,
   "metadata": {},
   "outputs": [],
   "source": []
  }
 ],
 "metadata": {
  "kernelspec": {
   "display_name": "Python 3",
   "language": "python",
   "name": "python3"
  },
  "language_info": {
   "codemirror_mode": {
    "name": "ipython",
    "version": 3
   },
   "file_extension": ".py",
   "mimetype": "text/x-python",
   "name": "python",
   "nbconvert_exporter": "python",
   "pygments_lexer": "ipython3",
   "version": "3.8.3"
  }
 },
 "nbformat": 4,
 "nbformat_minor": 4
}
