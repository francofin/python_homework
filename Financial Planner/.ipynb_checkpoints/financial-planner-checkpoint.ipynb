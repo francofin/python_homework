{
 "cells": [
  {
   "cell_type": "markdown",
   "metadata": {},
   "source": [
    "# Unit 5 - Financial Planning"
   ]
  },
  {
   "cell_type": "code",
   "execution_count": 77,
   "metadata": {},
   "outputs": [],
   "source": [
    "# Initial imports\n",
    "import os\n",
    "import requests\n",
    "import pandas as pd\n",
    "from dotenv import load_dotenv\n",
    "import alpaca_trade_api as tradeapi\n",
    "from MCForecastTools import MCSimulation\n",
    "import seaborn as sns\n",
    "import json\n",
    "import matplotlib.pyplot as plt\n",
    "%matplotlib inline"
   ]
  },
  {
   "cell_type": "code",
   "execution_count": 2,
   "metadata": {},
   "outputs": [
    {
     "data": {
      "text/plain": [
       "True"
      ]
     },
     "execution_count": 2,
     "metadata": {},
     "output_type": "execute_result"
    }
   ],
   "source": [
    "# Load .env enviroment variables\n",
    "load_dotenv()"
   ]
  },
  {
   "cell_type": "markdown",
   "metadata": {},
   "source": [
    "## Part 1 - Personal Finance Planner"
   ]
  },
  {
   "cell_type": "markdown",
   "metadata": {},
   "source": [
    "### Collect Crypto Prices Using the `requests` Library"
   ]
  },
  {
   "cell_type": "code",
   "execution_count": 62,
   "metadata": {},
   "outputs": [],
   "source": [
    "# Set current amount of crypto assets\n",
    "# YOUR CODE HERE!\n",
    "my_btc = 1.2\n",
    "my_eth = 5.3"
   ]
  },
  {
   "cell_type": "code",
   "execution_count": 8,
   "metadata": {},
   "outputs": [],
   "source": [
    "# Crypto API URLs\n",
    "btc_url = \"https://api.alternative.me/v2/ticker/Bitcoin/?convert=CAD\"\n",
    "eth_url = \"https://api.alternative.me/v2/ticker/Ethereum/?convert=CAD\""
   ]
  },
  {
   "cell_type": "code",
   "execution_count": 28,
   "metadata": {},
   "outputs": [],
   "source": [
    "# Fetch current BTC price\n",
    "# YOUR CODE HERE!\n",
    "btc_prices =pd.DataFrame(json.loads(requests.get(btc_url).content)['data']['1']['quotes'])"
   ]
  },
  {
   "cell_type": "code",
   "execution_count": 29,
   "metadata": {},
   "outputs": [
    {
     "data": {
      "text/html": [
       "<div>\n",
       "<style scoped>\n",
       "    .dataframe tbody tr th:only-of-type {\n",
       "        vertical-align: middle;\n",
       "    }\n",
       "\n",
       "    .dataframe tbody tr th {\n",
       "        vertical-align: top;\n",
       "    }\n",
       "\n",
       "    .dataframe thead th {\n",
       "        text-align: right;\n",
       "    }\n",
       "</style>\n",
       "<table border=\"1\" class=\"dataframe\">\n",
       "  <thead>\n",
       "    <tr style=\"text-align: right;\">\n",
       "      <th></th>\n",
       "      <th>USD</th>\n",
       "      <th>CAD</th>\n",
       "    </tr>\n",
       "  </thead>\n",
       "  <tbody>\n",
       "    <tr>\n",
       "      <th>price</th>\n",
       "      <td>4.269400e+04</td>\n",
       "      <td>5.458428e+04</td>\n",
       "    </tr>\n",
       "    <tr>\n",
       "      <th>volume_24h</th>\n",
       "      <td>4.161426e+10</td>\n",
       "      <td>5.320383e+10</td>\n",
       "    </tr>\n",
       "    <tr>\n",
       "      <th>market_cap</th>\n",
       "      <td>7.973912e+11</td>\n",
       "      <td>1.019465e+12</td>\n",
       "    </tr>\n",
       "    <tr>\n",
       "      <th>percentage_change_1h</th>\n",
       "      <td>1.407912e+00</td>\n",
       "      <td>NaN</td>\n",
       "    </tr>\n",
       "    <tr>\n",
       "      <th>percentage_change_24h</th>\n",
       "      <td>-8.436247e-01</td>\n",
       "      <td>NaN</td>\n",
       "    </tr>\n",
       "    <tr>\n",
       "      <th>percentage_change_7d</th>\n",
       "      <td>-9.422260e+00</td>\n",
       "      <td>NaN</td>\n",
       "    </tr>\n",
       "    <tr>\n",
       "      <th>percent_change_1h</th>\n",
       "      <td>1.407912e+00</td>\n",
       "      <td>1.407912e+00</td>\n",
       "    </tr>\n",
       "    <tr>\n",
       "      <th>percent_change_24h</th>\n",
       "      <td>-8.436247e-01</td>\n",
       "      <td>-8.436247e-01</td>\n",
       "    </tr>\n",
       "    <tr>\n",
       "      <th>percent_change_7d</th>\n",
       "      <td>-9.422260e+00</td>\n",
       "      <td>-9.422260e+00</td>\n",
       "    </tr>\n",
       "  </tbody>\n",
       "</table>\n",
       "</div>"
      ],
      "text/plain": [
       "                                USD           CAD\n",
       "price                  4.269400e+04  5.458428e+04\n",
       "volume_24h             4.161426e+10  5.320383e+10\n",
       "market_cap             7.973912e+11  1.019465e+12\n",
       "percentage_change_1h   1.407912e+00           NaN\n",
       "percentage_change_24h -8.436247e-01           NaN\n",
       "percentage_change_7d  -9.422260e+00           NaN\n",
       "percent_change_1h      1.407912e+00  1.407912e+00\n",
       "percent_change_24h    -8.436247e-01 -8.436247e-01\n",
       "percent_change_7d     -9.422260e+00 -9.422260e+00"
      ]
     },
     "execution_count": 29,
     "metadata": {},
     "output_type": "execute_result"
    }
   ],
   "source": [
    "btc_prices"
   ]
  },
  {
   "cell_type": "code",
   "execution_count": 31,
   "metadata": {},
   "outputs": [
    {
     "data": {
      "text/plain": [
       "54584.279"
      ]
     },
     "execution_count": 31,
     "metadata": {},
     "output_type": "execute_result"
    }
   ],
   "source": [
    "btc_price_cad = btc_prices.loc['price']['CAD']\n",
    "btc_price_cad"
   ]
  },
  {
   "cell_type": "code",
   "execution_count": 36,
   "metadata": {},
   "outputs": [
    {
     "data": {
      "text/html": [
       "<div>\n",
       "<style scoped>\n",
       "    .dataframe tbody tr th:only-of-type {\n",
       "        vertical-align: middle;\n",
       "    }\n",
       "\n",
       "    .dataframe tbody tr th {\n",
       "        vertical-align: top;\n",
       "    }\n",
       "\n",
       "    .dataframe thead th {\n",
       "        text-align: right;\n",
       "    }\n",
       "</style>\n",
       "<table border=\"1\" class=\"dataframe\">\n",
       "  <thead>\n",
       "    <tr style=\"text-align: right;\">\n",
       "      <th></th>\n",
       "      <th>USD</th>\n",
       "      <th>CAD</th>\n",
       "    </tr>\n",
       "  </thead>\n",
       "  <tbody>\n",
       "    <tr>\n",
       "      <th>price</th>\n",
       "      <td>2.977580e+03</td>\n",
       "      <td>3.806836e+03</td>\n",
       "    </tr>\n",
       "    <tr>\n",
       "      <th>volume_24h</th>\n",
       "      <td>3.188337e+10</td>\n",
       "      <td>4.076288e+10</td>\n",
       "    </tr>\n",
       "    <tr>\n",
       "      <th>market_cap</th>\n",
       "      <td>3.502459e+11</td>\n",
       "      <td>4.477894e+11</td>\n",
       "    </tr>\n",
       "    <tr>\n",
       "      <th>percentage_change_1h</th>\n",
       "      <td>2.630407e+00</td>\n",
       "      <td>NaN</td>\n",
       "    </tr>\n",
       "    <tr>\n",
       "      <th>percentage_change_24h</th>\n",
       "      <td>-1.807914e+00</td>\n",
       "      <td>NaN</td>\n",
       "    </tr>\n",
       "    <tr>\n",
       "      <th>percentage_change_7d</th>\n",
       "      <td>-1.306980e+01</td>\n",
       "      <td>NaN</td>\n",
       "    </tr>\n",
       "    <tr>\n",
       "      <th>percent_change_1h</th>\n",
       "      <td>2.630407e+00</td>\n",
       "      <td>2.630407e+00</td>\n",
       "    </tr>\n",
       "    <tr>\n",
       "      <th>percent_change_24h</th>\n",
       "      <td>-1.807914e+00</td>\n",
       "      <td>-1.807914e+00</td>\n",
       "    </tr>\n",
       "    <tr>\n",
       "      <th>percent_change_7d</th>\n",
       "      <td>-1.306980e+01</td>\n",
       "      <td>-1.306980e+01</td>\n",
       "    </tr>\n",
       "  </tbody>\n",
       "</table>\n",
       "</div>"
      ],
      "text/plain": [
       "                                USD           CAD\n",
       "price                  2.977580e+03  3.806836e+03\n",
       "volume_24h             3.188337e+10  4.076288e+10\n",
       "market_cap             3.502459e+11  4.477894e+11\n",
       "percentage_change_1h   2.630407e+00           NaN\n",
       "percentage_change_24h -1.807914e+00           NaN\n",
       "percentage_change_7d  -1.306980e+01           NaN\n",
       "percent_change_1h      2.630407e+00  2.630407e+00\n",
       "percent_change_24h    -1.807914e+00 -1.807914e+00\n",
       "percent_change_7d     -1.306980e+01 -1.306980e+01"
      ]
     },
     "execution_count": 36,
     "metadata": {},
     "output_type": "execute_result"
    }
   ],
   "source": [
    "# Fetch current ETH price\n",
    "# YOUR CODE HERE!\n",
    "eth_prices =pd.DataFrame(json.loads(requests.get(eth_url).content)['data']['1027']['quotes'])\n",
    "eth_prices"
   ]
  },
  {
   "cell_type": "code",
   "execution_count": 38,
   "metadata": {},
   "outputs": [
    {
     "data": {
      "text/plain": [
       "3806.83603"
      ]
     },
     "execution_count": 38,
     "metadata": {},
     "output_type": "execute_result"
    }
   ],
   "source": [
    "eth_price_cad = eth_prices.loc['price']['CAD']\n",
    "eth_price_cad"
   ]
  },
  {
   "cell_type": "code",
   "execution_count": 39,
   "metadata": {},
   "outputs": [],
   "source": [
    "# Compute current value of my crpto\n",
    "btc_value = my_btc * btc_price_cad\n",
    "eth_value = my_eth * eth_price_cad"
   ]
  },
  {
   "cell_type": "code",
   "execution_count": 40,
   "metadata": {},
   "outputs": [
    {
     "name": "stdout",
     "output_type": "stream",
     "text": [
      "The current value of your 1.2 BTC is $65501.13\n",
      "The current value of your 5.3 ETH is $20176.23\n"
     ]
    }
   ],
   "source": [
    "print(f\"The current value of your {my_btc} BTC is ${btc_value:0.2f}\")\n",
    "print(f\"The current value of your {my_eth} ETH is ${eth_value:0.2f}\")"
   ]
  },
  {
   "cell_type": "markdown",
   "metadata": {},
   "source": [
    "### Collect Investments Data Using Alpaca: `SPY` (stocks) and `AGG` (bonds)"
   ]
  },
  {
   "cell_type": "code",
   "execution_count": 42,
   "metadata": {},
   "outputs": [],
   "source": [
    "# Set current amount of shares\n",
    "shares_spy = 50\n",
    "shares_agg = 200"
   ]
  },
  {
   "cell_type": "code",
   "execution_count": 43,
   "metadata": {},
   "outputs": [],
   "source": [
    "# Set Alpaca API key and secret\n",
    "# YOUR CODE HERE!\n",
    "alpaca_api_key = os.getenv(\"ALPACA_API_KEY\")\n",
    "alpaca_api_secret = os.getenv(\"ALPACA_SECRET_KEY\")\n",
    "alpaca_api_endpoint = os.getenv(\"ALPACA_API_ENDPOINT\")"
   ]
  },
  {
   "cell_type": "code",
   "execution_count": 44,
   "metadata": {},
   "outputs": [],
   "source": [
    "# Create the Alpaca API object\n",
    "alpaca = tradeapi.REST(alpaca_api_key, alpaca_api_secret, alpaca_api_endpoint, api_version='v2')"
   ]
  },
  {
   "cell_type": "code",
   "execution_count": 45,
   "metadata": {},
   "outputs": [],
   "source": [
    "# Format current date as ISO format\n",
    "# YOUR CODE HERE!\n",
    "start_date = pd.Timestamp('2019-09-10', tz=\"America/New_York\").isoformat()\n",
    "today = pd.Timestamp('2021-09-21', tz=\"America/New_York\").isoformat()\n",
    "# Set the tickers\n",
    "tickers = [\"AGG\", \"SPY\"]\n",
    "# Set timeframe to '1D' for Alpaca API\n",
    "timeframe = \"1D\""
   ]
  },
  {
   "cell_type": "code",
   "execution_count": 54,
   "metadata": {},
   "outputs": [],
   "source": [
    "# Get current closing prices for SPY and AGG\n",
    "# (use a limit=1000 parameter to call the most recent 1000 days of data)\n",
    "# YOUR CODE HERE!\n",
    "df_portfolio = alpaca.get_barset(tickers, timeframe, start=start_date, end=today, limit=1000).df"
   ]
  },
  {
   "cell_type": "code",
   "execution_count": 55,
   "metadata": {},
   "outputs": [
    {
     "data": {
      "text/html": [
       "<div>\n",
       "<style scoped>\n",
       "    .dataframe tbody tr th:only-of-type {\n",
       "        vertical-align: middle;\n",
       "    }\n",
       "\n",
       "    .dataframe tbody tr th {\n",
       "        vertical-align: top;\n",
       "    }\n",
       "\n",
       "    .dataframe thead tr th {\n",
       "        text-align: left;\n",
       "    }\n",
       "\n",
       "    .dataframe thead tr:last-of-type th {\n",
       "        text-align: right;\n",
       "    }\n",
       "</style>\n",
       "<table border=\"1\" class=\"dataframe\">\n",
       "  <thead>\n",
       "    <tr>\n",
       "      <th></th>\n",
       "      <th colspan=\"5\" halign=\"left\">AGG</th>\n",
       "      <th colspan=\"5\" halign=\"left\">SPY</th>\n",
       "    </tr>\n",
       "    <tr>\n",
       "      <th></th>\n",
       "      <th>open</th>\n",
       "      <th>high</th>\n",
       "      <th>low</th>\n",
       "      <th>close</th>\n",
       "      <th>volume</th>\n",
       "      <th>open</th>\n",
       "      <th>high</th>\n",
       "      <th>low</th>\n",
       "      <th>close</th>\n",
       "      <th>volume</th>\n",
       "    </tr>\n",
       "    <tr>\n",
       "      <th>time</th>\n",
       "      <th></th>\n",
       "      <th></th>\n",
       "      <th></th>\n",
       "      <th></th>\n",
       "      <th></th>\n",
       "      <th></th>\n",
       "      <th></th>\n",
       "      <th></th>\n",
       "      <th></th>\n",
       "      <th></th>\n",
       "    </tr>\n",
       "  </thead>\n",
       "  <tbody>\n",
       "    <tr>\n",
       "      <th>2019-09-10 00:00:00-04:00</th>\n",
       "      <td>113.10</td>\n",
       "      <td>113.130</td>\n",
       "      <td>112.5900</td>\n",
       "      <td>112.595</td>\n",
       "      <td>2924111</td>\n",
       "      <td>297.36</td>\n",
       "      <td>298.2000</td>\n",
       "      <td>295.97</td>\n",
       "      <td>298.20</td>\n",
       "      <td>51133721</td>\n",
       "    </tr>\n",
       "    <tr>\n",
       "      <th>2019-09-11 00:00:00-04:00</th>\n",
       "      <td>112.58</td>\n",
       "      <td>112.710</td>\n",
       "      <td>112.5611</td>\n",
       "      <td>112.580</td>\n",
       "      <td>2506061</td>\n",
       "      <td>298.47</td>\n",
       "      <td>300.3400</td>\n",
       "      <td>297.75</td>\n",
       "      <td>300.29</td>\n",
       "      <td>55661424</td>\n",
       "    </tr>\n",
       "    <tr>\n",
       "      <th>2019-09-12 00:00:00-04:00</th>\n",
       "      <td>112.91</td>\n",
       "      <td>112.910</td>\n",
       "      <td>112.3400</td>\n",
       "      <td>112.420</td>\n",
       "      <td>2601852</td>\n",
       "      <td>301.25</td>\n",
       "      <td>302.4600</td>\n",
       "      <td>300.41</td>\n",
       "      <td>301.27</td>\n",
       "      <td>64607244</td>\n",
       "    </tr>\n",
       "    <tr>\n",
       "      <th>2019-09-13 00:00:00-04:00</th>\n",
       "      <td>112.15</td>\n",
       "      <td>112.265</td>\n",
       "      <td>111.7500</td>\n",
       "      <td>111.750</td>\n",
       "      <td>2381721</td>\n",
       "      <td>301.78</td>\n",
       "      <td>302.1700</td>\n",
       "      <td>300.68</td>\n",
       "      <td>301.05</td>\n",
       "      <td>51680998</td>\n",
       "    </tr>\n",
       "    <tr>\n",
       "      <th>2019-09-16 00:00:00-04:00</th>\n",
       "      <td>112.05</td>\n",
       "      <td>112.150</td>\n",
       "      <td>111.8900</td>\n",
       "      <td>112.060</td>\n",
       "      <td>2652524</td>\n",
       "      <td>299.84</td>\n",
       "      <td>301.1378</td>\n",
       "      <td>299.45</td>\n",
       "      <td>300.16</td>\n",
       "      <td>47779398</td>\n",
       "    </tr>\n",
       "  </tbody>\n",
       "</table>\n",
       "</div>"
      ],
      "text/plain": [
       "                              AGG                                       \\\n",
       "                             open     high       low    close   volume   \n",
       "time                                                                     \n",
       "2019-09-10 00:00:00-04:00  113.10  113.130  112.5900  112.595  2924111   \n",
       "2019-09-11 00:00:00-04:00  112.58  112.710  112.5611  112.580  2506061   \n",
       "2019-09-12 00:00:00-04:00  112.91  112.910  112.3400  112.420  2601852   \n",
       "2019-09-13 00:00:00-04:00  112.15  112.265  111.7500  111.750  2381721   \n",
       "2019-09-16 00:00:00-04:00  112.05  112.150  111.8900  112.060  2652524   \n",
       "\n",
       "                              SPY                                      \n",
       "                             open      high     low   close    volume  \n",
       "time                                                                   \n",
       "2019-09-10 00:00:00-04:00  297.36  298.2000  295.97  298.20  51133721  \n",
       "2019-09-11 00:00:00-04:00  298.47  300.3400  297.75  300.29  55661424  \n",
       "2019-09-12 00:00:00-04:00  301.25  302.4600  300.41  301.27  64607244  \n",
       "2019-09-13 00:00:00-04:00  301.78  302.1700  300.68  301.05  51680998  \n",
       "2019-09-16 00:00:00-04:00  299.84  301.1378  299.45  300.16  47779398  "
      ]
     },
     "execution_count": 55,
     "metadata": {},
     "output_type": "execute_result"
    }
   ],
   "source": [
    "df_portfolio.head()"
   ]
  },
  {
   "cell_type": "code",
   "execution_count": 56,
   "metadata": {},
   "outputs": [],
   "source": [
    "# Pick AGG and SPY close prices\n",
    "all_close_prices = pd.DataFrame()\n",
    "all_close_prices['AGG'] = df_portfolio['AGG']['close']\n",
    "all_close_prices['SPY'] = df_portfolio['SPY']['close']"
   ]
  },
  {
   "cell_type": "code",
   "execution_count": 57,
   "metadata": {},
   "outputs": [
    {
     "data": {
      "text/html": [
       "<div>\n",
       "<style scoped>\n",
       "    .dataframe tbody tr th:only-of-type {\n",
       "        vertical-align: middle;\n",
       "    }\n",
       "\n",
       "    .dataframe tbody tr th {\n",
       "        vertical-align: top;\n",
       "    }\n",
       "\n",
       "    .dataframe thead th {\n",
       "        text-align: right;\n",
       "    }\n",
       "</style>\n",
       "<table border=\"1\" class=\"dataframe\">\n",
       "  <thead>\n",
       "    <tr style=\"text-align: right;\">\n",
       "      <th></th>\n",
       "      <th>AGG</th>\n",
       "      <th>SPY</th>\n",
       "    </tr>\n",
       "    <tr>\n",
       "      <th>time</th>\n",
       "      <th></th>\n",
       "      <th></th>\n",
       "    </tr>\n",
       "  </thead>\n",
       "  <tbody>\n",
       "    <tr>\n",
       "      <th>2021-09-15 00:00:00-04:00</th>\n",
       "      <td>116.190</td>\n",
       "      <td>447.87</td>\n",
       "    </tr>\n",
       "    <tr>\n",
       "      <th>2021-09-16 00:00:00-04:00</th>\n",
       "      <td>115.990</td>\n",
       "      <td>447.14</td>\n",
       "    </tr>\n",
       "    <tr>\n",
       "      <th>2021-09-17 00:00:00-04:00</th>\n",
       "      <td>115.850</td>\n",
       "      <td>441.41</td>\n",
       "    </tr>\n",
       "    <tr>\n",
       "      <th>2021-09-20 00:00:00-04:00</th>\n",
       "      <td>116.120</td>\n",
       "      <td>434.07</td>\n",
       "    </tr>\n",
       "    <tr>\n",
       "      <th>2021-09-21 00:00:00-04:00</th>\n",
       "      <td>116.135</td>\n",
       "      <td>433.67</td>\n",
       "    </tr>\n",
       "  </tbody>\n",
       "</table>\n",
       "</div>"
      ],
      "text/plain": [
       "                               AGG     SPY\n",
       "time                                      \n",
       "2021-09-15 00:00:00-04:00  116.190  447.87\n",
       "2021-09-16 00:00:00-04:00  115.990  447.14\n",
       "2021-09-17 00:00:00-04:00  115.850  441.41\n",
       "2021-09-20 00:00:00-04:00  116.120  434.07\n",
       "2021-09-21 00:00:00-04:00  116.135  433.67"
      ]
     },
     "execution_count": 57,
     "metadata": {},
     "output_type": "execute_result"
    }
   ],
   "source": [
    "all_close_prices.tail()"
   ]
  },
  {
   "cell_type": "code",
   "execution_count": 58,
   "metadata": {},
   "outputs": [],
   "source": [
    "agg_close_price = all_close_prices.iloc[-1]['AGG']\n",
    "spy_close_price = all_close_prices.iloc[-1]['SPY']"
   ]
  },
  {
   "cell_type": "code",
   "execution_count": 59,
   "metadata": {},
   "outputs": [
    {
     "name": "stdout",
     "output_type": "stream",
     "text": [
      "Current AGG closing price: $116.135\n",
      "Current SPY closing price: $433.67\n"
     ]
    }
   ],
   "source": [
    "# Print AGG and SPY close prices\n",
    "print(f\"Current AGG closing price: ${agg_close_price}\")\n",
    "print(f\"Current SPY closing price: ${spy_close_price}\")"
   ]
  },
  {
   "cell_type": "code",
   "execution_count": 61,
   "metadata": {},
   "outputs": [
    {
     "name": "stdout",
     "output_type": "stream",
     "text": [
      "The current value of your 50 SPY shares is $21683.50\n",
      "The current value of your 200 AGG shares is $23227.00\n"
     ]
    }
   ],
   "source": [
    "# Compute the current value of shares\n",
    "# YOUR CODE HERE!\n",
    "my_agg_value = agg_close_price * shares_agg\n",
    "my_spy_value = spy_close_price * shares_spy\n",
    "# Print current value of shares\n",
    "print(f\"The current value of your {shares_spy} SPY shares is ${my_spy_value:0.2f}\")\n",
    "print(f\"The current value of your {shares_agg} AGG shares is ${my_agg_value:0.2f}\")"
   ]
  },
  {
   "cell_type": "markdown",
   "metadata": {},
   "source": [
    "### Savings Health Analysis"
   ]
  },
  {
   "cell_type": "code",
   "execution_count": 63,
   "metadata": {},
   "outputs": [],
   "source": [
    "# Set monthly household income\n",
    "household_income= 12000"
   ]
  },
  {
   "cell_type": "code",
   "execution_count": 65,
   "metadata": {},
   "outputs": [
    {
     "data": {
      "text/plain": [
       "130587.86575900001"
      ]
     },
     "execution_count": 65,
     "metadata": {},
     "output_type": "execute_result"
    }
   ],
   "source": [
    "# Consolidate financial assets data\n",
    "total_asset_value = my_agg_value + btc_value +eth_value +my_spy_value\n",
    "total_asset_value"
   ]
  },
  {
   "cell_type": "code",
   "execution_count": 68,
   "metadata": {},
   "outputs": [],
   "source": [
    "crypto_assets = btc_value +eth_value\n",
    "equity_bond_assets = my_agg_value + my_spy_value"
   ]
  },
  {
   "cell_type": "code",
   "execution_count": 73,
   "metadata": {},
   "outputs": [],
   "source": [
    "# Create savings DataFrame\n",
    "df_savings = pd.DataFrame(data = [crypto_assets, equity_bond_assets], columns=['Value'], index=['Crypto', 'Shares'])"
   ]
  },
  {
   "cell_type": "code",
   "execution_count": 74,
   "metadata": {},
   "outputs": [
    {
     "data": {
      "text/html": [
       "<div>\n",
       "<style scoped>\n",
       "    .dataframe tbody tr th:only-of-type {\n",
       "        vertical-align: middle;\n",
       "    }\n",
       "\n",
       "    .dataframe tbody tr th {\n",
       "        vertical-align: top;\n",
       "    }\n",
       "\n",
       "    .dataframe thead th {\n",
       "        text-align: right;\n",
       "    }\n",
       "</style>\n",
       "<table border=\"1\" class=\"dataframe\">\n",
       "  <thead>\n",
       "    <tr style=\"text-align: right;\">\n",
       "      <th></th>\n",
       "      <th>Value</th>\n",
       "    </tr>\n",
       "  </thead>\n",
       "  <tbody>\n",
       "    <tr>\n",
       "      <th>Crypto</th>\n",
       "      <td>85677.365759</td>\n",
       "    </tr>\n",
       "    <tr>\n",
       "      <th>Shares</th>\n",
       "      <td>44910.500000</td>\n",
       "    </tr>\n",
       "  </tbody>\n",
       "</table>\n",
       "</div>"
      ],
      "text/plain": [
       "               Value\n",
       "Crypto  85677.365759\n",
       "Shares  44910.500000"
      ]
     },
     "metadata": {},
     "output_type": "display_data"
    }
   ],
   "source": [
    "# Display savings DataFrame\n",
    "display(df_savings)"
   ]
  },
  {
   "cell_type": "code",
   "execution_count": 84,
   "metadata": {},
   "outputs": [
    {
     "data": {
      "image/png": "[encoded data removed]",
      "text/plain": [
       "<Figure size 1440x720 with 1 Axes>"
      ]
     },
     "metadata": {},
     "output_type": "display_data"
    }
   ],
   "source": [
    "# Plot savings pie chart\n",
    "sns.set(font_scale = 2)\n",
    "sns.set_style(\"whitegrid\")\n",
    "fig, ax= plt.subplots(figsize=(20,10))\n",
    "plt.pie(x=df_savings['Value'], labels=df_savings.index)\n",
    "plt.show()"
   ]
  },
  {
   "cell_type": "code",
   "execution_count": 85,
   "metadata": {},
   "outputs": [
    {
     "name": "stdout",
     "output_type": "stream",
     "text": [
      "Congratulations! You have enough money in your emergency fund.\n"
     ]
    }
   ],
   "source": [
    "# Set ideal emergency fund\n",
    "emergency_fund = household_income * 3\n",
    "# Calculate total amount of savings\n",
    "savings = total_asset_value\n",
    "# Validate saving health\n",
    "if savings > emergency_fund:\n",
    "    print(\"Congratulations! You have enough money in your emergency fund.\")\n",
    "else:\n",
    "    shortfall = emergency_fund - savings\n",
    "    print(f'You are ${shortfall} away from having enough in your emergency fund')"
   ]
  },
  {
   "cell_type": "markdown",
   "metadata": {},
   "source": [
    "## Part 2 - Retirement Planning\n",
    "\n",
    "### Monte Carlo Simulation"
   ]
  },
  {
   "cell_type": "code",
   "execution_count": 86,
   "metadata": {},
   "outputs": [],
   "source": [
    "# Set start and end dates of five years back from today.\n",
    "# Sample results may vary from the solution based on the time frame chosen\n",
    "start_date = pd.Timestamp('2016-05-01', tz='America/New_York').isoformat()\n",
    "end_date = pd.Timestamp('2021-05-01', tz='America/New_York').isoformat()"
   ]
  },
  {
   "cell_type": "code",
   "execution_count": 88,
   "metadata": {},
   "outputs": [
    {
     "data": {
      "text/html": [
       "<div>\n",
       "<style scoped>\n",
       "    .dataframe tbody tr th:only-of-type {\n",
       "        vertical-align: middle;\n",
       "    }\n",
       "\n",
       "    .dataframe tbody tr th {\n",
       "        vertical-align: top;\n",
       "    }\n",
       "\n",
       "    .dataframe thead tr th {\n",
       "        text-align: left;\n",
       "    }\n",
       "\n",
       "    .dataframe thead tr:last-of-type th {\n",
       "        text-align: right;\n",
       "    }\n",
       "</style>\n",
       "<table border=\"1\" class=\"dataframe\">\n",
       "  <thead>\n",
       "    <tr>\n",
       "      <th></th>\n",
       "      <th colspan=\"5\" halign=\"left\">AGG</th>\n",
       "      <th colspan=\"5\" halign=\"left\">SPY</th>\n",
       "    </tr>\n",
       "    <tr>\n",
       "      <th></th>\n",
       "      <th>open</th>\n",
       "      <th>high</th>\n",
       "      <th>low</th>\n",
       "      <th>close</th>\n",
       "      <th>volume</th>\n",
       "      <th>open</th>\n",
       "      <th>high</th>\n",
       "      <th>low</th>\n",
       "      <th>close</th>\n",
       "      <th>volume</th>\n",
       "    </tr>\n",
       "    <tr>\n",
       "      <th>time</th>\n",
       "      <th></th>\n",
       "      <th></th>\n",
       "      <th></th>\n",
       "      <th></th>\n",
       "      <th></th>\n",
       "      <th></th>\n",
       "      <th></th>\n",
       "      <th></th>\n",
       "      <th></th>\n",
       "      <th></th>\n",
       "    </tr>\n",
       "  </thead>\n",
       "  <tbody>\n",
       "    <tr>\n",
       "      <th>2017-05-10 00:00:00-04:00</th>\n",
       "      <td>108.60</td>\n",
       "      <td>108.660</td>\n",
       "      <td>108.4400</td>\n",
       "      <td>108.520</td>\n",
       "      <td>1427511.0</td>\n",
       "      <td>NaN</td>\n",
       "      <td>NaN</td>\n",
       "      <td>NaN</td>\n",
       "      <td>NaN</td>\n",
       "      <td>NaN</td>\n",
       "    </tr>\n",
       "    <tr>\n",
       "      <th>2017-05-11 00:00:00-04:00</th>\n",
       "      <td>108.35</td>\n",
       "      <td>108.540</td>\n",
       "      <td>108.3435</td>\n",
       "      <td>108.515</td>\n",
       "      <td>1773499.0</td>\n",
       "      <td>239.35</td>\n",
       "      <td>239.57</td>\n",
       "      <td>238.13</td>\n",
       "      <td>239.410</td>\n",
       "      <td>45435690.0</td>\n",
       "    </tr>\n",
       "    <tr>\n",
       "      <th>2017-05-12 00:00:00-04:00</th>\n",
       "      <td>108.81</td>\n",
       "      <td>108.940</td>\n",
       "      <td>108.7800</td>\n",
       "      <td>108.920</td>\n",
       "      <td>1136553.0</td>\n",
       "      <td>239.09</td>\n",
       "      <td>239.21</td>\n",
       "      <td>238.67</td>\n",
       "      <td>239.030</td>\n",
       "      <td>35283567.0</td>\n",
       "    </tr>\n",
       "    <tr>\n",
       "      <th>2017-05-15 00:00:00-04:00</th>\n",
       "      <td>108.85</td>\n",
       "      <td>108.940</td>\n",
       "      <td>108.8200</td>\n",
       "      <td>108.890</td>\n",
       "      <td>1620264.0</td>\n",
       "      <td>239.47</td>\n",
       "      <td>240.44</td>\n",
       "      <td>239.45</td>\n",
       "      <td>240.245</td>\n",
       "      <td>42230620.0</td>\n",
       "    </tr>\n",
       "    <tr>\n",
       "      <th>2017-05-16 00:00:00-04:00</th>\n",
       "      <td>108.88</td>\n",
       "      <td>109.101</td>\n",
       "      <td>108.8800</td>\n",
       "      <td>109.000</td>\n",
       "      <td>1394153.0</td>\n",
       "      <td>240.62</td>\n",
       "      <td>240.67</td>\n",
       "      <td>239.63</td>\n",
       "      <td>240.100</td>\n",
       "      <td>37206183.0</td>\n",
       "    </tr>\n",
       "  </tbody>\n",
       "</table>\n",
       "</div>"
      ],
      "text/plain": [
       "                              AGG                                         \\\n",
       "                             open     high       low    close     volume   \n",
       "time                                                                       \n",
       "2017-05-10 00:00:00-04:00  108.60  108.660  108.4400  108.520  1427511.0   \n",
       "2017-05-11 00:00:00-04:00  108.35  108.540  108.3435  108.515  1773499.0   \n",
       "2017-05-12 00:00:00-04:00  108.81  108.940  108.7800  108.920  1136553.0   \n",
       "2017-05-15 00:00:00-04:00  108.85  108.940  108.8200  108.890  1620264.0   \n",
       "2017-05-16 00:00:00-04:00  108.88  109.101  108.8800  109.000  1394153.0   \n",
       "\n",
       "                              SPY                                       \n",
       "                             open    high     low    close      volume  \n",
       "time                                                                    \n",
       "2017-05-10 00:00:00-04:00     NaN     NaN     NaN      NaN         NaN  \n",
       "2017-05-11 00:00:00-04:00  239.35  239.57  238.13  239.410  45435690.0  \n",
       "2017-05-12 00:00:00-04:00  239.09  239.21  238.67  239.030  35283567.0  \n",
       "2017-05-15 00:00:00-04:00  239.47  240.44  239.45  240.245  42230620.0  \n",
       "2017-05-16 00:00:00-04:00  240.62  240.67  239.63  240.100  37206183.0  "
      ]
     },
     "execution_count": 88,
     "metadata": {},
     "output_type": "execute_result"
    }
   ],
   "source": [
    "# Get 5 years' worth of historical data for SPY and AGG\n",
    "# (use a limit=1000 parameter to call the most recent 1000 days of data)\n",
    "# YOUR CODE HERE!\n",
    "df_stock_data = alpaca.get_barset(tickers, timeframe, start=start_date, end=end_date, limit=1000).df\n",
    "# Display sample data\n",
    "df_stock_data.head()"
   ]
  },
  {
   "cell_type": "code",
   "execution_count": 89,
   "metadata": {},
   "outputs": [],
   "source": [
    "# Configuring a Monte Carlo simulation to forecast 30 years cumulative returns\n",
    "MC_fiveyear = MCSimulation(\n",
    "    portfolio_data = df_stock_data,\n",
    "    weights = [.40,.60],\n",
    "    num_simulation = 500,\n",
    "    num_trading_days = 252*30\n",
    ")"
   ]
  },
  {
   "cell_type": "code",
   "execution_count": 91,
   "metadata": {},
   "outputs": [
    {
     "data": {
      "text/html": [
       "<div>\n",
       "<style scoped>\n",
       "    .dataframe tbody tr th:only-of-type {\n",
       "        vertical-align: middle;\n",
       "    }\n",
       "\n",
       "    .dataframe tbody tr th {\n",
       "        vertical-align: top;\n",
       "    }\n",
       "\n",
       "    .dataframe thead tr th {\n",
       "        text-align: left;\n",
       "    }\n",
       "\n",
       "    .dataframe thead tr:last-of-type th {\n",
       "        text-align: right;\n",
       "    }\n",
       "</style>\n",
       "<table border=\"1\" class=\"dataframe\">\n",
       "  <thead>\n",
       "    <tr>\n",
       "      <th></th>\n",
       "      <th colspan=\"6\" halign=\"left\">AGG</th>\n",
       "      <th colspan=\"6\" halign=\"left\">SPY</th>\n",
       "    </tr>\n",
       "    <tr>\n",
       "      <th></th>\n",
       "      <th>open</th>\n",
       "      <th>high</th>\n",
       "      <th>low</th>\n",
       "      <th>close</th>\n",
       "      <th>volume</th>\n",
       "      <th>daily_return</th>\n",
       "      <th>open</th>\n",
       "      <th>high</th>\n",
       "      <th>low</th>\n",
       "      <th>close</th>\n",
       "      <th>volume</th>\n",
       "      <th>daily_return</th>\n",
       "    </tr>\n",
       "    <tr>\n",
       "      <th>time</th>\n",
       "      <th></th>\n",
       "      <th></th>\n",
       "      <th></th>\n",
       "      <th></th>\n",
       "      <th></th>\n",
       "      <th></th>\n",
       "      <th></th>\n",
       "      <th></th>\n",
       "      <th></th>\n",
       "      <th></th>\n",
       "      <th></th>\n",
       "      <th></th>\n",
       "    </tr>\n",
       "  </thead>\n",
       "  <tbody>\n",
       "    <tr>\n",
       "      <th>2017-05-10 00:00:00-04:00</th>\n",
       "      <td>108.60</td>\n",
       "      <td>108.660</td>\n",
       "      <td>108.4400</td>\n",
       "      <td>108.520</td>\n",
       "      <td>1427511.0</td>\n",
       "      <td>NaN</td>\n",
       "      <td>NaN</td>\n",
       "      <td>NaN</td>\n",
       "      <td>NaN</td>\n",
       "      <td>NaN</td>\n",
       "      <td>NaN</td>\n",
       "      <td>NaN</td>\n",
       "    </tr>\n",
       "    <tr>\n",
       "      <th>2017-05-11 00:00:00-04:00</th>\n",
       "      <td>108.35</td>\n",
       "      <td>108.540</td>\n",
       "      <td>108.3435</td>\n",
       "      <td>108.515</td>\n",
       "      <td>1773499.0</td>\n",
       "      <td>-0.000046</td>\n",
       "      <td>239.35</td>\n",
       "      <td>239.57</td>\n",
       "      <td>238.13</td>\n",
       "      <td>239.410</td>\n",
       "      <td>45435690.0</td>\n",
       "      <td>NaN</td>\n",
       "    </tr>\n",
       "    <tr>\n",
       "      <th>2017-05-12 00:00:00-04:00</th>\n",
       "      <td>108.81</td>\n",
       "      <td>108.940</td>\n",
       "      <td>108.7800</td>\n",
       "      <td>108.920</td>\n",
       "      <td>1136553.0</td>\n",
       "      <td>0.003732</td>\n",
       "      <td>239.09</td>\n",
       "      <td>239.21</td>\n",
       "      <td>238.67</td>\n",
       "      <td>239.030</td>\n",
       "      <td>35283567.0</td>\n",
       "      <td>-0.001587</td>\n",
       "    </tr>\n",
       "    <tr>\n",
       "      <th>2017-05-15 00:00:00-04:00</th>\n",
       "      <td>108.85</td>\n",
       "      <td>108.940</td>\n",
       "      <td>108.8200</td>\n",
       "      <td>108.890</td>\n",
       "      <td>1620264.0</td>\n",
       "      <td>-0.000275</td>\n",
       "      <td>239.47</td>\n",
       "      <td>240.44</td>\n",
       "      <td>239.45</td>\n",
       "      <td>240.245</td>\n",
       "      <td>42230620.0</td>\n",
       "      <td>0.005083</td>\n",
       "    </tr>\n",
       "    <tr>\n",
       "      <th>2017-05-16 00:00:00-04:00</th>\n",
       "      <td>108.88</td>\n",
       "      <td>109.101</td>\n",
       "      <td>108.8800</td>\n",
       "      <td>109.000</td>\n",
       "      <td>1394153.0</td>\n",
       "      <td>0.001010</td>\n",
       "      <td>240.62</td>\n",
       "      <td>240.67</td>\n",
       "      <td>239.63</td>\n",
       "      <td>240.100</td>\n",
       "      <td>37206183.0</td>\n",
       "      <td>-0.000604</td>\n",
       "    </tr>\n",
       "  </tbody>\n",
       "</table>\n",
       "</div>"
      ],
      "text/plain": [
       "                              AGG                                         \\\n",
       "                             open     high       low    close     volume   \n",
       "time                                                                       \n",
       "2017-05-10 00:00:00-04:00  108.60  108.660  108.4400  108.520  1427511.0   \n",
       "2017-05-11 00:00:00-04:00  108.35  108.540  108.3435  108.515  1773499.0   \n",
       "2017-05-12 00:00:00-04:00  108.81  108.940  108.7800  108.920  1136553.0   \n",
       "2017-05-15 00:00:00-04:00  108.85  108.940  108.8200  108.890  1620264.0   \n",
       "2017-05-16 00:00:00-04:00  108.88  109.101  108.8800  109.000  1394153.0   \n",
       "\n",
       "                                           SPY                           \\\n",
       "                          daily_return    open    high     low    close   \n",
       "time                                                                      \n",
       "2017-05-10 00:00:00-04:00          NaN     NaN     NaN     NaN      NaN   \n",
       "2017-05-11 00:00:00-04:00    -0.000046  239.35  239.57  238.13  239.410   \n",
       "2017-05-12 00:00:00-04:00     0.003732  239.09  239.21  238.67  239.030   \n",
       "2017-05-15 00:00:00-04:00    -0.000275  239.47  240.44  239.45  240.245   \n",
       "2017-05-16 00:00:00-04:00     0.001010  240.62  240.67  239.63  240.100   \n",
       "\n",
       "                                                    \n",
       "                               volume daily_return  \n",
       "time                                                \n",
       "2017-05-10 00:00:00-04:00         NaN          NaN  \n",
       "2017-05-11 00:00:00-04:00  45435690.0          NaN  \n",
       "2017-05-12 00:00:00-04:00  35283567.0    -0.001587  \n",
       "2017-05-15 00:00:00-04:00  42230620.0     0.005083  \n",
       "2017-05-16 00:00:00-04:00  37206183.0    -0.000604  "
      ]
     },
     "execution_count": 91,
     "metadata": {},
     "output_type": "execute_result"
    }
   ],
   "source": [
    "# Printing the simulation input data\n",
    "MC_fiveyear.portfolio_data.head()"
   ]
  },
  {
   "cell_type": "code",
   "execution_count": 92,
   "metadata": {},
   "outputs": [
    {
     "name": "stdout",
     "output_type": "stream",
     "text": [
      "Running Monte Carlo simulation number 0.\n",
      "Running Monte Carlo simulation number 10.\n",
      "Running Monte Carlo simulation number 20.\n",
      "Running Monte Carlo simulation number 30.\n",
      "Running Monte Carlo simulation number 40.\n",
      "Running Monte Carlo simulation number 50.\n",
      "Running Monte Carlo simulation number 60.\n",
      "Running Monte Carlo simulation number 70.\n",
      "Running Monte Carlo simulation number 80.\n",
      "Running Monte Carlo simulation number 90.\n",
      "Running Monte Carlo simulation number 100.\n",
      "Running Monte Carlo simulation number 110.\n",
      "Running Monte Carlo simulation number 120.\n",
      "Running Monte Carlo simulation number 130.\n",
      "Running Monte Carlo simulation number 140.\n",
      "Running Monte Carlo simulation number 150.\n",
      "Running Monte Carlo simulation number 160.\n",
      "Running Monte Carlo simulation number 170.\n",
      "Running Monte Carlo simulation number 180.\n",
      "Running Monte Carlo simulation number 190.\n",
      "Running Monte Carlo simulation number 200.\n",
      "Running Monte Carlo simulation number 210.\n",
      "Running Monte Carlo simulation number 220.\n",
      "Running Monte Carlo simulation number 230.\n",
      "Running Monte Carlo simulation number 240.\n",
      "Running Monte Carlo simulation number 250.\n",
      "Running Monte Carlo simulation number 260.\n",
      "Running Monte Carlo simulation number 270.\n",
      "Running Monte Carlo simulation number 280.\n",
      "Running Monte Carlo simulation number 290.\n",
      "Running Monte Carlo simulation number 300.\n",
      "Running Monte Carlo simulation number 310.\n",
      "Running Monte Carlo simulation number 320.\n",
      "Running Monte Carlo simulation number 330.\n",
      "Running Monte Carlo simulation number 340.\n",
      "Running Monte Carlo simulation number 350.\n",
      "Running Monte Carlo simulation number 360.\n",
      "Running Monte Carlo simulation number 370.\n",
      "Running Monte Carlo simulation number 380.\n",
      "Running Monte Carlo simulation number 390.\n",
      "Running Monte Carlo simulation number 400.\n",
      "Running Monte Carlo simulation number 410.\n",
      "Running Monte Carlo simulation number 420.\n",
      "Running Monte Carlo simulation number 430.\n",
      "Running Monte Carlo simulation number 440.\n",
      "Running Monte Carlo simulation number 450.\n",
      "Running Monte Carlo simulation number 460.\n",
      "Running Monte Carlo simulation number 470.\n",
      "Running Monte Carlo simulation number 480.\n",
      "Running Monte Carlo simulation number 490.\n"
     ]
    },
    {
     "data": {
      "text/html": [
       "<div>\n",
       "<style scoped>\n",
       "    .dataframe tbody tr th:only-of-type {\n",
       "        vertical-align: middle;\n",
       "    }\n",
       "\n",
       "    .dataframe tbody tr th {\n",
       "        vertical-align: top;\n",
       "    }\n",
       "\n",
       "    .dataframe thead th {\n",
       "        text-align: right;\n",
       "    }\n",
       "</style>\n",
       "<table border=\"1\" class=\"dataframe\">\n",
       "  <thead>\n",
       "    <tr style=\"text-align: right;\">\n",
       "      <th></th>\n",
       "      <th>0</th>\n",
       "      <th>1</th>\n",
       "      <th>2</th>\n",
       "      <th>3</th>\n",
       "      <th>4</th>\n",
       "      <th>5</th>\n",
       "      <th>6</th>\n",
       "      <th>7</th>\n",
       "      <th>8</th>\n",
       "      <th>9</th>\n",
       "      <th>...</th>\n",
       "      <th>490</th>\n",
       "      <th>491</th>\n",
       "      <th>492</th>\n",
       "      <th>493</th>\n",
       "      <th>494</th>\n",
       "      <th>495</th>\n",
       "      <th>496</th>\n",
       "      <th>497</th>\n",
       "      <th>498</th>\n",
       "      <th>499</th>\n",
       "    </tr>\n",
       "  </thead>\n",
       "  <tbody>\n",
       "    <tr>\n",
       "      <th>0</th>\n",
       "      <td>1.000000</td>\n",
       "      <td>1.000000</td>\n",
       "      <td>1.000000</td>\n",
       "      <td>1.000000</td>\n",
       "      <td>1.000000</td>\n",
       "      <td>1.000000</td>\n",
       "      <td>1.000000</td>\n",
       "      <td>1.000000</td>\n",
       "      <td>1.000000</td>\n",
       "      <td>1.000000</td>\n",
       "      <td>...</td>\n",
       "      <td>1.000000</td>\n",
       "      <td>1.000000</td>\n",
       "      <td>1.000000</td>\n",
       "      <td>1.000000</td>\n",
       "      <td>1.000000</td>\n",
       "      <td>1.000000</td>\n",
       "      <td>1.000000</td>\n",
       "      <td>1.000000</td>\n",
       "      <td>1.000000</td>\n",
       "      <td>1.000000</td>\n",
       "    </tr>\n",
       "    <tr>\n",
       "      <th>1</th>\n",
       "      <td>1.006902</td>\n",
       "      <td>0.995606</td>\n",
       "      <td>1.007802</td>\n",
       "      <td>0.987959</td>\n",
       "      <td>1.014112</td>\n",
       "      <td>0.995325</td>\n",
       "      <td>0.993232</td>\n",
       "      <td>0.990517</td>\n",
       "      <td>0.987001</td>\n",
       "      <td>1.005344</td>\n",
       "      <td>...</td>\n",
       "      <td>0.986715</td>\n",
       "      <td>0.994871</td>\n",
       "      <td>0.998781</td>\n",
       "      <td>1.002091</td>\n",
       "      <td>0.995532</td>\n",
       "      <td>1.011722</td>\n",
       "      <td>1.013619</td>\n",
       "      <td>0.983386</td>\n",
       "      <td>0.991225</td>\n",
       "      <td>1.010515</td>\n",
       "    </tr>\n",
       "    <tr>\n",
       "      <th>2</th>\n",
       "      <td>1.006919</td>\n",
       "      <td>0.995820</td>\n",
       "      <td>1.000536</td>\n",
       "      <td>0.993543</td>\n",
       "      <td>1.006313</td>\n",
       "      <td>0.984120</td>\n",
       "      <td>0.988330</td>\n",
       "      <td>0.986767</td>\n",
       "      <td>0.990347</td>\n",
       "      <td>1.018382</td>\n",
       "      <td>...</td>\n",
       "      <td>0.989475</td>\n",
       "      <td>0.997157</td>\n",
       "      <td>0.986171</td>\n",
       "      <td>0.998186</td>\n",
       "      <td>1.006226</td>\n",
       "      <td>1.007051</td>\n",
       "      <td>1.019414</td>\n",
       "      <td>0.986322</td>\n",
       "      <td>0.997619</td>\n",
       "      <td>1.011699</td>\n",
       "    </tr>\n",
       "    <tr>\n",
       "      <th>3</th>\n",
       "      <td>1.010991</td>\n",
       "      <td>0.984437</td>\n",
       "      <td>1.008956</td>\n",
       "      <td>0.987722</td>\n",
       "      <td>1.005559</td>\n",
       "      <td>0.980262</td>\n",
       "      <td>0.990355</td>\n",
       "      <td>0.977988</td>\n",
       "      <td>1.002682</td>\n",
       "      <td>1.028081</td>\n",
       "      <td>...</td>\n",
       "      <td>0.985594</td>\n",
       "      <td>1.003074</td>\n",
       "      <td>0.985533</td>\n",
       "      <td>1.011920</td>\n",
       "      <td>1.017916</td>\n",
       "      <td>0.995161</td>\n",
       "      <td>1.023742</td>\n",
       "      <td>0.991802</td>\n",
       "      <td>1.021014</td>\n",
       "      <td>1.019425</td>\n",
       "    </tr>\n",
       "    <tr>\n",
       "      <th>4</th>\n",
       "      <td>1.008493</td>\n",
       "      <td>0.975728</td>\n",
       "      <td>0.997680</td>\n",
       "      <td>0.983632</td>\n",
       "      <td>1.010421</td>\n",
       "      <td>0.993596</td>\n",
       "      <td>1.004258</td>\n",
       "      <td>0.977234</td>\n",
       "      <td>1.004602</td>\n",
       "      <td>1.028510</td>\n",
       "      <td>...</td>\n",
       "      <td>0.985744</td>\n",
       "      <td>1.012958</td>\n",
       "      <td>0.963808</td>\n",
       "      <td>1.013753</td>\n",
       "      <td>1.020216</td>\n",
       "      <td>0.993051</td>\n",
       "      <td>1.021066</td>\n",
       "      <td>0.985601</td>\n",
       "      <td>1.038399</td>\n",
       "      <td>1.017620</td>\n",
       "    </tr>\n",
       "    <tr>\n",
       "      <th>...</th>\n",
       "      <td>...</td>\n",
       "      <td>...</td>\n",
       "      <td>...</td>\n",
       "      <td>...</td>\n",
       "      <td>...</td>\n",
       "      <td>...</td>\n",
       "      <td>...</td>\n",
       "      <td>...</td>\n",
       "      <td>...</td>\n",
       "      <td>...</td>\n",
       "      <td>...</td>\n",
       "      <td>...</td>\n",
       "      <td>...</td>\n",
       "      <td>...</td>\n",
       "      <td>...</td>\n",
       "      <td>...</td>\n",
       "      <td>...</td>\n",
       "      <td>...</td>\n",
       "      <td>...</td>\n",
       "      <td>...</td>\n",
       "      <td>...</td>\n",
       "    </tr>\n",
       "    <tr>\n",
       "      <th>7556</th>\n",
       "      <td>27.295462</td>\n",
       "      <td>24.525579</td>\n",
       "      <td>8.135887</td>\n",
       "      <td>18.423789</td>\n",
       "      <td>14.710572</td>\n",
       "      <td>33.088574</td>\n",
       "      <td>20.710334</td>\n",
       "      <td>23.653888</td>\n",
       "      <td>17.968570</td>\n",
       "      <td>66.581802</td>\n",
       "      <td>...</td>\n",
       "      <td>13.933501</td>\n",
       "      <td>33.116747</td>\n",
       "      <td>20.557001</td>\n",
       "      <td>8.041417</td>\n",
       "      <td>4.716361</td>\n",
       "      <td>12.901126</td>\n",
       "      <td>110.257095</td>\n",
       "      <td>16.744321</td>\n",
       "      <td>32.490746</td>\n",
       "      <td>21.086882</td>\n",
       "    </tr>\n",
       "    <tr>\n",
       "      <th>7557</th>\n",
       "      <td>27.525201</td>\n",
       "      <td>24.181073</td>\n",
       "      <td>8.145506</td>\n",
       "      <td>18.436224</td>\n",
       "      <td>14.837204</td>\n",
       "      <td>33.176101</td>\n",
       "      <td>20.530019</td>\n",
       "      <td>23.520682</td>\n",
       "      <td>18.069401</td>\n",
       "      <td>66.483553</td>\n",
       "      <td>...</td>\n",
       "      <td>13.776803</td>\n",
       "      <td>33.415180</td>\n",
       "      <td>20.613507</td>\n",
       "      <td>8.000998</td>\n",
       "      <td>4.762528</td>\n",
       "      <td>12.866292</td>\n",
       "      <td>110.636485</td>\n",
       "      <td>16.504485</td>\n",
       "      <td>32.021810</td>\n",
       "      <td>21.136672</td>\n",
       "    </tr>\n",
       "    <tr>\n",
       "      <th>7558</th>\n",
       "      <td>27.209890</td>\n",
       "      <td>24.129615</td>\n",
       "      <td>8.208538</td>\n",
       "      <td>18.549725</td>\n",
       "      <td>14.928601</td>\n",
       "      <td>33.012723</td>\n",
       "      <td>20.533884</td>\n",
       "      <td>23.399003</td>\n",
       "      <td>17.860846</td>\n",
       "      <td>65.854668</td>\n",
       "      <td>...</td>\n",
       "      <td>13.662406</td>\n",
       "      <td>33.422495</td>\n",
       "      <td>20.646436</td>\n",
       "      <td>7.972063</td>\n",
       "      <td>4.715107</td>\n",
       "      <td>13.019410</td>\n",
       "      <td>109.104659</td>\n",
       "      <td>16.566125</td>\n",
       "      <td>31.933590</td>\n",
       "      <td>20.913566</td>\n",
       "    </tr>\n",
       "    <tr>\n",
       "      <th>7559</th>\n",
       "      <td>27.130057</td>\n",
       "      <td>24.486900</td>\n",
       "      <td>8.117863</td>\n",
       "      <td>18.720970</td>\n",
       "      <td>14.814003</td>\n",
       "      <td>33.135597</td>\n",
       "      <td>20.736824</td>\n",
       "      <td>23.395410</td>\n",
       "      <td>17.979959</td>\n",
       "      <td>66.071646</td>\n",
       "      <td>...</td>\n",
       "      <td>13.691052</td>\n",
       "      <td>33.631967</td>\n",
       "      <td>20.450952</td>\n",
       "      <td>8.066917</td>\n",
       "      <td>4.736735</td>\n",
       "      <td>13.038037</td>\n",
       "      <td>110.477927</td>\n",
       "      <td>16.579876</td>\n",
       "      <td>32.202327</td>\n",
       "      <td>21.000564</td>\n",
       "    </tr>\n",
       "    <tr>\n",
       "      <th>7560</th>\n",
       "      <td>27.435851</td>\n",
       "      <td>24.541018</td>\n",
       "      <td>8.092585</td>\n",
       "      <td>18.565622</td>\n",
       "      <td>14.749908</td>\n",
       "      <td>33.226759</td>\n",
       "      <td>20.933524</td>\n",
       "      <td>23.413596</td>\n",
       "      <td>18.047905</td>\n",
       "      <td>66.018694</td>\n",
       "      <td>...</td>\n",
       "      <td>13.642721</td>\n",
       "      <td>33.359609</td>\n",
       "      <td>20.398567</td>\n",
       "      <td>8.035537</td>\n",
       "      <td>4.787768</td>\n",
       "      <td>13.095342</td>\n",
       "      <td>109.623800</td>\n",
       "      <td>16.816416</td>\n",
       "      <td>32.467486</td>\n",
       "      <td>21.014123</td>\n",
       "    </tr>\n",
       "  </tbody>\n",
       "</table>\n",
       "<p>7561 rows × 500 columns</p>\n",
       "</div>"
      ],
      "text/plain": [
       "            0          1         2          3          4          5    \\\n",
       "0      1.000000   1.000000  1.000000   1.000000   1.000000   1.000000   \n",
       "1      1.006902   0.995606  1.007802   0.987959   1.014112   0.995325   \n",
       "2      1.006919   0.995820  1.000536   0.993543   1.006313   0.984120   \n",
       "3      1.010991   0.984437  1.008956   0.987722   1.005559   0.980262   \n",
       "4      1.008493   0.975728  0.997680   0.983632   1.010421   0.993596   \n",
       "...         ...        ...       ...        ...        ...        ...   \n",
       "7556  27.295462  24.525579  8.135887  18.423789  14.710572  33.088574   \n",
       "7557  27.525201  24.181073  8.145506  18.436224  14.837204  33.176101   \n",
       "7558  27.209890  24.129615  8.208538  18.549725  14.928601  33.012723   \n",
       "7559  27.130057  24.486900  8.117863  18.720970  14.814003  33.135597   \n",
       "7560  27.435851  24.541018  8.092585  18.565622  14.749908  33.226759   \n",
       "\n",
       "            6          7          8          9    ...        490        491  \\\n",
       "0      1.000000   1.000000   1.000000   1.000000  ...   1.000000   1.000000   \n",
       "1      0.993232   0.990517   0.987001   1.005344  ...   0.986715   0.994871   \n",
       "2      0.988330   0.986767   0.990347   1.018382  ...   0.989475   0.997157   \n",
       "3      0.990355   0.977988   1.002682   1.028081  ...   0.985594   1.003074   \n",
       "4      1.004258   0.977234   1.004602   1.028510  ...   0.985744   1.012958   \n",
       "...         ...        ...        ...        ...  ...        ...        ...   \n",
       "7556  20.710334  23.653888  17.968570  66.581802  ...  13.933501  33.116747   \n",
       "7557  20.530019  23.520682  18.069401  66.483553  ...  13.776803  33.415180   \n",
       "7558  20.533884  23.399003  17.860846  65.854668  ...  13.662406  33.422495   \n",
       "7559  20.736824  23.395410  17.979959  66.071646  ...  13.691052  33.631967   \n",
       "7560  20.933524  23.413596  18.047905  66.018694  ...  13.642721  33.359609   \n",
       "\n",
       "            492       493       494        495         496        497  \\\n",
       "0      1.000000  1.000000  1.000000   1.000000    1.000000   1.000000   \n",
       "1      0.998781  1.002091  0.995532   1.011722    1.013619   0.983386   \n",
       "2      0.986171  0.998186  1.006226   1.007051    1.019414   0.986322   \n",
       "3      0.985533  1.011920  1.017916   0.995161    1.023742   0.991802   \n",
       "4      0.963808  1.013753  1.020216   0.993051    1.021066   0.985601   \n",
       "...         ...       ...       ...        ...         ...        ...   \n",
       "7556  20.557001  8.041417  4.716361  12.901126  110.257095  16.744321   \n",
       "7557  20.613507  8.000998  4.762528  12.866292  110.636485  16.504485   \n",
       "7558  20.646436  7.972063  4.715107  13.019410  109.104659  16.566125   \n",
       "7559  20.450952  8.066917  4.736735  13.038037  110.477927  16.579876   \n",
       "7560  20.398567  8.035537  4.787768  13.095342  109.623800  16.816416   \n",
       "\n",
       "            498        499  \n",
       "0      1.000000   1.000000  \n",
       "1      0.991225   1.010515  \n",
       "2      0.997619   1.011699  \n",
       "3      1.021014   1.019425  \n",
       "4      1.038399   1.017620  \n",
       "...         ...        ...  \n",
       "7556  32.490746  21.086882  \n",
       "7557  32.021810  21.136672  \n",
       "7558  31.933590  20.913566  \n",
       "7559  32.202327  21.000564  \n",
       "7560  32.467486  21.014123  \n",
       "\n",
       "[7561 rows x 500 columns]"
      ]
     },
     "execution_count": 92,
     "metadata": {},
     "output_type": "execute_result"
    }
   ],
   "source": [
    "# Running a Monte Carlo simulation to forecast 30 years cumulative returns\n",
    "MC_fiveyear.calc_cumulative_return()"
   ]
  },
  {
   "cell_type": "code",
   "execution_count": 93,
   "metadata": {},
   "outputs": [
    {
     "data": {
      "image/png": "[encoded data removed]",
      "text/plain": [
       "<Figure size 432x288 with 1 Axes>"
      ]
     },
     "metadata": {},
     "output_type": "display_data"
    }
   ],
   "source": [
    "# Plot simulation outcomes\n",
    "line_plot = MC_fiveyear.plot_simulation()"
   ]
  },
  {
   "cell_type": "code",
   "execution_count": 94,
   "metadata": {},
   "outputs": [
    {
     "data": {
      "image/png": "[encoded data removed]",
      "text/plain": [
       "<Figure size 432x288 with 1 Axes>"
      ]
     },
     "metadata": {},
     "output_type": "display_data"
    }
   ],
   "source": [
    "# Plot probability distribution and confidence intervals\n",
    "dist_plot = MC_fiveyear.plot_distribution()"
   ]
  },
  {
   "cell_type": "markdown",
   "metadata": {},
   "source": [
    "### Retirement Analysis"
   ]
  },
  {
   "cell_type": "code",
   "execution_count": 95,
   "metadata": {},
   "outputs": [
    {
     "data": {
      "text/plain": [
       "count           500.000000\n",
       "mean             23.790778\n",
       "std              20.434355\n",
       "min               3.206657\n",
       "25%              11.496759\n",
       "50%              19.075833\n",
       "75%              29.835755\n",
       "max             227.889624\n",
       "95% CI Lower      4.768706\n",
       "95% CI Upper     72.796034\n",
       "Name: 7560, dtype: float64"
      ]
     },
     "execution_count": 95,
     "metadata": {},
     "output_type": "execute_result"
    }
   ],
   "source": [
    "# Fetch summary statistics from the Monte Carlo simulation results\n",
    "tbl = MC_fiveyear.summarize_cumulative_return()\n",
    "\n",
    "# Print summary statistics\n",
    "tbl"
   ]
  },
  {
   "cell_type": "markdown",
   "metadata": {},
   "source": [
    "### Calculate the expected portfolio return at the `95%` lower and upper confidence intervals based on a `$20,000` initial investment."
   ]
  },
  {
   "cell_type": "code",
   "execution_count": 97,
   "metadata": {},
   "outputs": [
    {
     "name": "stdout",
     "output_type": "stream",
     "text": [
      "There is a 95% chance that an initial investment of $20000 in the portfolio over the next 30 years will end within in the range of $95374.12 and $1455920.69\n"
     ]
    }
   ],
   "source": [
    "# Set initial investment\n",
    "initial_investment = 20000\n",
    "\n",
    "# Use the lower and upper `95%` confidence intervals to calculate the range of the possible outcomes of our $20,000\n",
    "ci_lower = round(tbl[8]*initial_investment,2)\n",
    "ci_upper = round(tbl[9]*initial_investment,2)\n",
    "\n",
    "# Print results\n",
    "print(f\"There is a 95% chance that an initial investment of ${initial_investment} in the portfolio\"\n",
    "      f\" over the next 30 years will end within in the range of\"\n",
    "      f\" ${ci_lower} and ${ci_upper}\")"
   ]
  },
  {
   "cell_type": "markdown",
   "metadata": {},
   "source": [
    "### Calculate the expected portfolio return at the `95%` lower and upper confidence intervals based on a `50%` increase in the initial investment."
   ]
  },
  {
   "cell_type": "code",
   "execution_count": 98,
   "metadata": {},
   "outputs": [
    {
     "name": "stdout",
     "output_type": "stream",
     "text": [
      "There is a 95% chance that an initial investment of $20000 in the portfolio over the next 30 years will end within in the range of $143061.18 and $2183881.03\n"
     ]
    }
   ],
   "source": [
    "# Set initial investment\n",
    "initial_investment_scenario2 = 20000 * 1.5\n",
    "\n",
    "# Use the lower and upper `95%` confidence intervals to calculate the range of the possible outcomes of our $30,000\n",
    "ci_lower = round(tbl[8]*initial_investment_scenario2,2)\n",
    "ci_upper = round(tbl[9]*initial_investment_scenario2,2)\n",
    "\n",
    "# Print results\n",
    "print(f\"There is a 95% chance that an initial investment of ${initial_investment} in the portfolio\"\n",
    "      f\" over the next 30 years will end within in the range of\"\n",
    "      f\" ${ci_lower} and ${ci_upper}\")"
   ]
  },
  {
   "cell_type": "code",
   "execution_count": null,
   "metadata": {},
   "outputs": [],
   "source": []
  }
 ],
 "metadata": {
  "kernelspec": {
   "display_name": "Python 3",
   "language": "python",
   "name": "python3"
  },
  "language_info": {
   "codemirror_mode": {
    "name": "ipython",
    "version": 3
   },
   "file_extension": ".py",
   "mimetype": "text/x-python",
   "name": "python",
   "nbconvert_exporter": "python",
   "pygments_lexer": "ipython3",
   "version": "3.7.7"
  },
  "nteract": {
   "version": "0.28.0"
  }
 },
 "nbformat": 4,
 "nbformat_minor": 4
}
